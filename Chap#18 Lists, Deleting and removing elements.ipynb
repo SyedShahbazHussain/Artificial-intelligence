{
 "cells": [
  {
   "cell_type": "markdown",
   "metadata": {},
   "source": [
    "# Chap#18 Lists: Deleting and removing elements"
   ]
  },
  {
   "cell_type": "code",
   "execution_count": 3,
   "metadata": {},
   "outputs": [
    {
     "name": "stdout",
     "output_type": "stream",
     "text": [
      "members :  [1162, 'Shahbaz', 'Asad', 'Umair']\n",
      "Now members :  ['Shahbaz', 'Asad', 'Umair']\n"
     ]
    }
   ],
   "source": [
    "aList = [1162, 'Shahbaz', 'Rafay', 'Asad', 'Umair'];\n",
    "aList.remove('Rafay');\n",
    "print(\"members : \", aList)\n",
    "aList.remove(1162);\n",
    "print(\"Now members : \", aList)"
   ]
  },
  {
   "cell_type": "code",
   "execution_count": 13,
   "metadata": {},
   "outputs": [
    {
     "name": "stdout",
     "output_type": "stream",
     "text": [
      "['Web Engineering', 'Data Security', 1997, 2000]\n",
      "After deleting value at index 2 :  ['Web Engineering', 'Data Security', 2000]\n"
     ]
    }
   ],
   "source": [
    "Subject = ['Web Engineering', 'Data Security', 1997, 2000];\n",
    "print(Subject)\n",
    "del Subject[2];\n",
    "print(\"After deleting value at index 2 : \",  Subject)"
   ]
  },
  {
   "cell_type": "code",
   "execution_count": null,
   "metadata": {},
   "outputs": [],
   "source": []
  }
 ],
 "metadata": {
  "kernelspec": {
   "display_name": "Python 3",
   "language": "python",
   "name": "python3"
  },
  "language_info": {
   "codemirror_mode": {
    "name": "ipython",
    "version": 3
   },
   "file_extension": ".py",
   "mimetype": "text/x-python",
   "name": "python",
   "nbconvert_exporter": "python",
   "pygments_lexer": "ipython3",
   "version": "3.6.5"
  }
 },
 "nbformat": 4,
 "nbformat_minor": 2
}
