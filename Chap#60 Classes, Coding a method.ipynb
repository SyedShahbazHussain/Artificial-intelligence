{
 "cells": [
  {
   "cell_type": "markdown",
   "metadata": {},
   "source": [
    "# Chap#60 Classes, Coding a method"
   ]
  },
  {
   "cell_type": "code",
   "execution_count": 4,
   "metadata": {},
   "outputs": [
    {
     "name": "stdout",
     "output_type": "stream",
     "text": [
      "salary after tax 4790.0\n",
      "salary after tax 1437000.0\n"
     ]
    }
   ],
   "source": [
    "class Employee:\n",
    "\n",
    "    __Tax= 4.2 \n",
    "\n",
    "    def __init__(self, name, salary):\n",
    "        self._name = name\n",
    "        self._salary = salary\n",
    "\n",
    "    @property\n",
    "    def salary(self):\n",
    "        tax_amount = self._salary * (Employee.__Tax / 100 ) \n",
    "        return self._salary - tax_amount\n",
    "\n",
    "    @salary.setter\n",
    "    def salary(self, value):\n",
    "        self._salary = value\n",
    "\n",
    "\n",
    "if __name__ == '__main__':\n",
    "    emp = Employee('Shahbaz', 5000)\n",
    "    print(\"salary after tax\",emp.salary)\n",
    "    emp.salary = 1500000\n",
    "    print(\"salary after tax\",emp.salary)"
   ]
  },
  {
   "cell_type": "code",
   "execution_count": null,
   "metadata": {},
   "outputs": [],
   "source": []
  }
 ],
 "metadata": {
  "kernelspec": {
   "display_name": "Python 3",
   "language": "python",
   "name": "python3"
  },
  "language_info": {
   "codemirror_mode": {
    "name": "ipython",
    "version": 3
   },
   "file_extension": ".py",
   "mimetype": "text/x-python",
   "name": "python",
   "nbconvert_exporter": "python",
   "pygments_lexer": "ipython3",
   "version": "3.6.5"
  }
 },
 "nbformat": 4,
 "nbformat_minor": 2
}
