{
 "cells": [
  {
   "cell_type": "markdown",
   "metadata": {},
   "source": [
    "# Chap#37 Creating a dictionary that contains lists\n"
   ]
  },
  {
   "cell_type": "code",
   "execution_count": 17,
   "metadata": {},
   "outputs": [
    {
     "name": "stdout",
     "output_type": "stream",
     "text": [
      "{'population': 100001, 'group sizes': [40000, 40000, 20001]}\n"
     ]
    }
   ],
   "source": [
    "dict = {\n",
    "  \"population\": 100001,\n",
    "  \"group sizes\": [40000, 40000, 20001],\n",
    "}\n",
    "print(dict)\n",
    "\n",
    "\n"
   ]
  },
  {
   "cell_type": "code",
   "execution_count": 20,
   "metadata": {},
   "outputs": [
    {
     "name": "stdout",
     "output_type": "stream",
     "text": [
      "{'products': ['Pepsi', '7up', 'Coca‑Cola', 'Mountain Dew', \"Sprite'\\n'\", 'Red Bull'], 'product qtys': [4, 13, 6, 18, 20, 5, 22]}\n"
     ]
    }
   ],
   "source": [
    "product_lists = {\n",
    "  \"products\": [\"Pepsi\", \"7up\", \"Coca‑Cola\", \"Mountain Dew\", \"Sprite\", \"Red Bull\", ],\n",
    "  \"product qtys\": [4, 13, 6, 18, 20, 5, 22],\n",
    "}\n",
    "print(product_lists)"
   ]
  },
  {
   "cell_type": "code",
   "execution_count": null,
   "metadata": {},
   "outputs": [],
   "source": []
  }
 ],
 "metadata": {
  "kernelspec": {
   "display_name": "Python 3",
   "language": "python",
   "name": "python3"
  },
  "language_info": {
   "codemirror_mode": {
    "name": "ipython",
    "version": 3
   },
   "file_extension": ".py",
   "mimetype": "text/x-python",
   "name": "python",
   "nbconvert_exporter": "python",
   "pygments_lexer": "ipython3",
   "version": "3.6.5"
  }
 },
 "nbformat": 4,
 "nbformat_minor": 2
}
