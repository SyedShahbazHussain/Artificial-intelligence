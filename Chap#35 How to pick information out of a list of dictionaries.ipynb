{
 "cells": [
  {
   "cell_type": "markdown",
   "metadata": {},
   "source": [
    "# Chap#35 How to pick information out of a list of dictionaries"
   ]
  },
  {
   "cell_type": "code",
   "execution_count": 3,
   "metadata": {},
   "outputs": [
    {
     "name": "stdout",
     "output_type": "stream",
     "text": [
      "FEST\n"
     ]
    }
   ],
   "source": [
    "Students = [ \n",
    "    {\n",
    "        'FirstName': 'Syed Shahbaz',\n",
    "        'LastName': 'Hussain',\n",
    "        'Depart': 'FEST',\n",
    "        'ID': '1162-2015'\n",
    "    },\n",
    "    \n",
    "{\n",
    "    'FirstName': 'Asad',\n",
    "    'LastName': 'Ikhlas',\n",
    "    'Depart': 'FAD',\n",
    "    'ID': '2030'\n",
    "},\n",
    "]\n",
    "Students\n",
    "a = Students[0]\n",
    "Students_Depart = a['Depart']\n",
    "\n",
    "print(Students_Depart)"
   ]
  },
  {
   "cell_type": "code",
   "execution_count": null,
   "metadata": {},
   "outputs": [],
   "source": []
  }
 ],
 "metadata": {
  "kernelspec": {
   "display_name": "Python 3",
   "language": "python",
   "name": "python3"
  },
  "language_info": {
   "codemirror_mode": {
    "name": "ipython",
    "version": 3
   },
   "file_extension": ".py",
   "mimetype": "text/x-python",
   "name": "python",
   "nbconvert_exporter": "python",
   "pygments_lexer": "ipython3",
   "version": "3.6.5"
  }
 },
 "nbformat": 4,
 "nbformat_minor": 2
}
