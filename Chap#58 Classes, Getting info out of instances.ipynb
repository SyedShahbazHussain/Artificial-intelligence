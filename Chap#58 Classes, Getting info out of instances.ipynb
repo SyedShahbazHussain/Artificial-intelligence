{
 "cells": [
  {
   "cell_type": "markdown",
   "metadata": {},
   "source": [
    "# Chap#58 Classes: Getting info out of instances"
   ]
  },
  {
   "cell_type": "code",
   "execution_count": 5,
   "metadata": {},
   "outputs": [
    {
     "name": "stdout",
     "output_type": "stream",
     "text": [
      "Usama Riaz you a confirmed user\n",
      "Usama Riaz your not yet confirmed\n"
     ]
    }
   ],
   "source": [
    "class User:\n",
    "    def __init__(self, name):\n",
    "        self.name = name\n",
    "        self.confirmed = True\n",
    "    \n",
    "    def is_confirmed(self):\n",
    "        if self.confirmed:\n",
    "            return '%s you a confirmed user' % self.name\n",
    "        return '%s your not yet confirmed' %  self.name\n",
    "\n",
    "if __name__ == '__main__':\n",
    "    user1 = User('Usama Riaz')\n",
    "    print(user1.is_confirmed())\n",
    "    user1.confirmed = False\n",
    "    print(user1.is_confirmed())\n"
   ]
  },
  {
   "cell_type": "code",
   "execution_count": null,
   "metadata": {},
   "outputs": [],
   "source": []
  }
 ],
 "metadata": {
  "kernelspec": {
   "display_name": "Python 3",
   "language": "python",
   "name": "python3"
  },
  "language_info": {
   "codemirror_mode": {
    "name": "ipython",
    "version": 3
   },
   "file_extension": ".py",
   "mimetype": "text/x-python",
   "name": "python",
   "nbconvert_exporter": "python",
   "pygments_lexer": "ipython3",
   "version": "3.6.5"
  }
 },
 "nbformat": 4,
 "nbformat_minor": 2
}
