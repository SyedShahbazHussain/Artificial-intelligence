{
 "cells": [
  {
   "cell_type": "markdown",
   "metadata": {},
   "source": [
    "# Chap#56 Classes, Creating an instance"
   ]
  },
  {
   "cell_type": "code",
   "execution_count": 1,
   "metadata": {},
   "outputs": [],
   "source": [
    "class Patient():\n",
    "    def __init__(self, last_name):\n",
    "        self.last_name = last_name\n",
    "        pid4343 = Patient(\"Taha\") \n",
    "        pid4344 = Patient(\"Ali\") \n",
    "        pid4345 = Patient(\"Fahad\") \n",
    "        pid4346 = Patient(\"Farooq\") \n",
    "        pid12902 = Patient(\"Zain\")\n",
    "        \n",
    "        pid4343 = {\"last name\": \"Taha\"} \n",
    "        pid4344 = {\"last name\": \"Ali\"} \n",
    "        pid4345 = {\"last name\": \"Fahad\"} \n",
    "        pid4346 = {\"last name\": \"Farooq\"} \n",
    "        pid12902 = {\"last name\": \"Zain\"} "
   ]
  },
  {
   "cell_type": "code",
   "execution_count": null,
   "metadata": {},
   "outputs": [],
   "source": []
  }
 ],
 "metadata": {
  "kernelspec": {
   "display_name": "Python 3",
   "language": "python",
   "name": "python3"
  },
  "language_info": {
   "codemirror_mode": {
    "name": "ipython",
    "version": 3
   },
   "file_extension": ".py",
   "mimetype": "text/x-python",
   "name": "python",
   "nbconvert_exporter": "python",
   "pygments_lexer": "ipython3",
   "version": "3.6.5"
  }
 },
 "nbformat": 4,
 "nbformat_minor": 2
}
