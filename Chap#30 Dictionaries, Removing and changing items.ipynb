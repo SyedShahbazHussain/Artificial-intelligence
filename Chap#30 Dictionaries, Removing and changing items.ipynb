{
 "cells": [
  {
   "cell_type": "markdown",
   "metadata": {},
   "source": [
    "# Chap#30 Dictionaries: Removing and changing items\n"
   ]
  },
  {
   "cell_type": "code",
   "execution_count": 2,
   "metadata": {},
   "outputs": [
    {
     "name": "stdout",
     "output_type": "stream",
     "text": [
      "\n",
      "\n",
      "{1: 'Pakistan', 2: 'India', 3: 'Chaina', 4: 'Iran'} \n",
      "\n",
      "{'Name': 'Syed Shahbaz Hussain', 'Department': 'FEST'}\n",
      "\n",
      "\n",
      "{1: 'Pakistan', 3: 'Chaina', 4: 'Iran'}\n",
      "{'Name': 'Syed Shahbaz Hussain'}\n",
      "{1: 'Pakistan', 3: 'Chaina', 4: 'Iraq'}\n"
     ]
    }
   ],
   "source": [
    "Country = { 1: \"Pakistan\",  2: \"India\",  3: \"Chaina\" }\n",
    "Country[4]=\"Iran\"\n",
    "profile = { \"Name\" : \"Syed Shahbaz Hussain\"}\n",
    "profile[\"Department\"]=\"FEST\"\n",
    "print ( \"\\n\")\n",
    "print (Country ,\"\\n\")\n",
    "print (profile)\n",
    "del Country[2]             \n",
    "del profile[\"Department\"]\n",
    "print ( \"\\n\")\n",
    "print (Country)\n",
    "print (profile)\n",
    "\n",
    "Country[4]=\"Iraq\"       \n",
    "print (Country)"
   ]
  },
  {
   "cell_type": "code",
   "execution_count": null,
   "metadata": {},
   "outputs": [],
   "source": []
  }
 ],
 "metadata": {
  "kernelspec": {
   "display_name": "Python 3",
   "language": "python",
   "name": "python3"
  },
  "language_info": {
   "codemirror_mode": {
    "name": "ipython",
    "version": 3
   },
   "file_extension": ".py",
   "mimetype": "text/x-python",
   "name": "python",
   "nbconvert_exporter": "python",
   "pygments_lexer": "ipython3",
   "version": "3.6.5"
  }
 },
 "nbformat": 4,
 "nbformat_minor": 2
}
