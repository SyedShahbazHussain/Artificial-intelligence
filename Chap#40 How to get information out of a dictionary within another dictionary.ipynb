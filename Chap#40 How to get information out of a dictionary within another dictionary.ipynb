{
 "cells": [
  {
   "cell_type": "markdown",
   "metadata": {},
   "source": [
    "# Chap#40 How to get information out of a dictionary within another dictionary"
   ]
  },
  {
   "cell_type": "code",
   "execution_count": 1,
   "metadata": {},
   "outputs": [
    {
     "name": "stdout",
     "output_type": "stream",
     "text": [
      "{'First name': 'Syed', 'Middle name': 'Shahbaz', 'Last name': 'Hussain', 'Address': 'Malir.'}\n"
     ]
    }
   ],
   "source": [
    "customers = {\n",
    "  0:  {\n",
    "         \"First name\":\"Syed\",\n",
    "         \"Middle name\": \"Shahbaz\",\n",
    "         \"Last name\": \"Hussain\",\n",
    "         \"Address\": \"Malir.\", \n",
    "    },\n",
    " 1:  {\n",
    "        \"First Name\":\"Umair\",\n",
    "        \"Last Name\": \"Bajwa\",\n",
    "        \"Address\": \"Johar\", \n",
    "    },\n",
    " 2:   { \n",
    "        \"First Name\":\"Asad\",\n",
    "        \"Last Name\": \"Ikhlas\",\n",
    "        \"Address\": \"F.B area\", \n",
    "    },\n",
    "}\n",
    "print(customers[0])"
   ]
  },
  {
   "cell_type": "code",
   "execution_count": null,
   "metadata": {},
   "outputs": [],
   "source": []
  }
 ],
 "metadata": {
  "kernelspec": {
   "display_name": "Python 3",
   "language": "python",
   "name": "python3"
  },
  "language_info": {
   "codemirror_mode": {
    "name": "ipython",
    "version": 3
   },
   "file_extension": ".py",
   "mimetype": "text/x-python",
   "name": "python",
   "nbconvert_exporter": "python",
   "pygments_lexer": "ipython3",
   "version": "3.6.5"
  }
 },
 "nbformat": 4,
 "nbformat_minor": 2
}
