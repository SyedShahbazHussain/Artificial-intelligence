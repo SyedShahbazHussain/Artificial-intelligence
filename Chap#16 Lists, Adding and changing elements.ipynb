{
 "cells": [
  {
   "cell_type": "markdown",
   "metadata": {},
   "source": [
    "# Chap#16 Lists: Adding and changing elements\n"
   ]
  },
  {
   "cell_type": "code",
   "execution_count": 1,
   "metadata": {},
   "outputs": [
    {
     "name": "stdout",
     "output_type": "stream",
     "text": [
      "Welcome to koita\n"
     ]
    }
   ],
   "source": [
    "cities = [\"Islamabad\", \"Karachi\", \"Lahore\", \"Multan\", \"Hydrabad\", \"Peshawar\"]\n",
    "cities.append(\"koita\")\n",
    "print(\"Welcome to \" + cities[6])"
   ]
  },
  {
   "cell_type": "code",
   "execution_count": 10,
   "metadata": {},
   "outputs": [
    {
     "name": "stdout",
     "output_type": "stream",
     "text": [
      "Welcome to koita\n"
     ]
    }
   ],
   "source": [
    "cities = [\"Islamabad\", \"Karachi\", \"Lahore\", \"Multan\", \"Hybradab\", \"Peshawar\"]\n",
    "cities.insert(0, \"koita\")\n",
    "print(\"Welcome to \" + cities[0])\n"
   ]
  },
  {
   "cell_type": "code",
   "execution_count": null,
   "metadata": {},
   "outputs": [],
   "source": []
  }
 ],
 "metadata": {
  "kernelspec": {
   "display_name": "Python 3",
   "language": "python",
   "name": "python3"
  },
  "language_info": {
   "codemirror_mode": {
    "name": "ipython",
    "version": 3
   },
   "file_extension": ".py",
   "mimetype": "text/x-python",
   "name": "python",
   "nbconvert_exporter": "python",
   "pygments_lexer": "ipython3",
   "version": "3.6.5"
  }
 },
 "nbformat": 4,
 "nbformat_minor": 2
}
