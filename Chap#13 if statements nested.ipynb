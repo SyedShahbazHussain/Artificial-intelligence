{
 "cells": [
  {
   "cell_type": "code",
   "execution_count": 4,
   "metadata": {},
   "outputs": [
    {
     "name": "stdout",
     "output_type": "stream",
     "text": [
      "Expression value is less than 200\n",
      "Which is 100\n"
     ]
    }
   ],
   "source": [
    "var = 100\n",
    "if var < 200:\n",
    "    print (\"Expression value is less than 200\")\n",
    "    if var == 150:\n",
    "        print (\"Which is 150\")\n",
    "    elif var == 100:\n",
    "        print (\"Which is 100\")\n",
    "    elif var == 50:\n",
    "        print (\"Which is 50\")\n",
    "    elif var < 50:\n",
    "        print (\"Expression value is less than 50\")\n",
    "else:\n",
    "    print (\"Could not find true expression\")\n"
   ]
  },
  {
   "cell_type": "code",
   "execution_count": null,
   "metadata": {},
   "outputs": [],
   "source": []
  }
 ],
 "metadata": {
  "kernelspec": {
   "display_name": "Python 3",
   "language": "python",
   "name": "python3"
  },
  "language_info": {
   "codemirror_mode": {
    "name": "ipython",
    "version": 3
   },
   "file_extension": ".py",
   "mimetype": "text/x-python",
   "name": "python",
   "nbconvert_exporter": "python",
   "pygments_lexer": "ipython3",
   "version": "3.6.5"
  }
 },
 "nbformat": 4,
 "nbformat_minor": 2
}
