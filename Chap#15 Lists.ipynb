{
 "cells": [
  {
   "cell_type": "markdown",
   "metadata": {},
   "source": [
    "# Chap#15 Lists"
   ]
  },
  {
   "cell_type": "code",
   "execution_count": 2,
   "metadata": {},
   "outputs": [
    {
     "name": "stdout",
     "output_type": "stream",
     "text": [
      "Welcome to Karachi\n"
     ]
    }
   ],
   "source": [
    "city_0 = \"Islamabad\" \n",
    "city_1 = \"Karachi\" \n",
    "city_2 = \"Lahore\" \n",
    "city_3 = \"Multan\" \n",
    "city_4 = \"Hydrabad\" \n",
    "city_5 = \"Peshawar\"\n",
    "print(\"Welcome to \" + city_1) "
   ]
  },
  {
   "cell_type": "code",
   "execution_count": 4,
   "metadata": {},
   "outputs": [
    {
     "name": "stdout",
     "output_type": "stream",
     "text": [
      "Welcome to Karachi\n"
     ]
    }
   ],
   "source": [
    "cities = [\"Islamabad\", \"Karachi\", \"Lahore\", \"Multan\", \"Hybradab\", \"Peshawar\"]\n",
    "print(\"Welcome to \" + cities[1])"
   ]
  },
  {
   "cell_type": "code",
   "execution_count": null,
   "metadata": {},
   "outputs": [],
   "source": []
  }
 ],
 "metadata": {
  "kernelspec": {
   "display_name": "Python 3",
   "language": "python",
   "name": "python3"
  },
  "language_info": {
   "codemirror_mode": {
    "name": "ipython",
    "version": 3
   },
   "file_extension": ".py",
   "mimetype": "text/x-python",
   "name": "python",
   "nbconvert_exporter": "python",
   "pygments_lexer": "ipython3",
   "version": "3.6.5"
  }
 },
 "nbformat": 4,
 "nbformat_minor": 2
}
