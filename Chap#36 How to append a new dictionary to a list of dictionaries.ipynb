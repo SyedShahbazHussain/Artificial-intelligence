{
 "cells": [
  {
   "cell_type": "markdown",
   "metadata": {},
   "source": [
    "# Chap#36 How to append a new dictionary to a list of dictionaries"
   ]
  },
  {
   "cell_type": "code",
   "execution_count": 3,
   "metadata": {},
   "outputs": [
    {
     "name": "stdout",
     "output_type": "stream",
     "text": [
      "8\n"
     ]
    }
   ],
   "source": [
    "list_of_numbers = [1, 2, 3, 4, 5, 6,7,8]\n",
    "x = len(list_of_numbers)\n",
    "print(x)"
   ]
  },
  {
   "cell_type": "code",
   "execution_count": 23,
   "metadata": {},
   "outputs": [
    {
     "name": "stdout",
     "output_type": "stream",
     "text": [
      "[{'customer id': 0, 'first name': 'Shahbaz', 'last name': 'Hussain'}, {'customer id': 1, 'first name': 'Asad', 'last name:': 'Addy'}]\n"
     ]
    }
   ],
   "source": [
    "customers = [\n",
    "  {\n",
    "    \"customer id\": 0,\n",
    "    \"first name\":\"Shahbaz\",\n",
    "    \"last name\": \"Hussain\",\n",
    "  },\n",
    "]\n",
    "new_customer_id = len(customers)\n",
    "new_first_name = \"Asad\"\n",
    "new_last_name = \"Addy\"\n",
    "new_dictionary = {\n",
    "  \"customer id\": new_customer_id,\n",
    "  \"first name\": new_first_name,\n",
    "  \"last name:\": new_last_name,\n",
    "}\n",
    "customers.append(new_dictionary)\n",
    "print(customers)"
   ]
  },
  {
   "cell_type": "code",
   "execution_count": null,
   "metadata": {},
   "outputs": [],
   "source": []
  }
 ],
 "metadata": {
  "kernelspec": {
   "display_name": "Python 3",
   "language": "python",
   "name": "python3"
  },
  "language_info": {
   "codemirror_mode": {
    "name": "ipython",
    "version": 3
   },
   "file_extension": ".py",
   "mimetype": "text/x-python",
   "name": "python",
   "nbconvert_exporter": "python",
   "pygments_lexer": "ipython3",
   "version": "3.6.5"
  }
 },
 "nbformat": 4,
 "nbformat_minor": 2
}
