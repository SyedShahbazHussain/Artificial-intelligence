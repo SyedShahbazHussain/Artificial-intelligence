{
 "cells": [
  {
   "cell_type": "markdown",
   "metadata": {},
   "source": [
    "# Chap#48 Using functions as variables (which is what they really are)\n"
   ]
  },
  {
   "cell_type": "code",
   "execution_count": 2,
   "metadata": {},
   "outputs": [
    {
     "name": "stdout",
     "output_type": "stream",
     "text": [
      "26\n",
      "-2\n",
      "24\n"
     ]
    }
   ],
   "source": [
    "def Addition(num1,num2):\n",
    "    return num1 + num2 \n",
    "result_of_Additon = Addition(20,6)\n",
    "print (result_of_Additon)\n",
    "def Subtraction(num1,num2):\n",
    "    return num1 - num2\n",
    "result_of_Subtraction = Subtraction(7,9)\n",
    "print (result_of_Subtraction)\n",
    "Sum = result_of_Additon + result_of_Subtraction\n",
    "print(Sum)"
   ]
  },
  {
   "cell_type": "code",
   "execution_count": null,
   "metadata": {},
   "outputs": [],
   "source": []
  }
 ],
 "metadata": {
  "kernelspec": {
   "display_name": "Python 3",
   "language": "python",
   "name": "python3"
  },
  "language_info": {
   "codemirror_mode": {
    "name": "ipython",
    "version": 3
   },
   "file_extension": ".py",
   "mimetype": "text/x-python",
   "name": "python",
   "nbconvert_exporter": "python",
   "pygments_lexer": "ipython3",
   "version": "3.6.5"
  }
 },
 "nbformat": 4,
 "nbformat_minor": 2
}
