{
 "cells": [
  {
   "cell_type": "markdown",
   "metadata": {},
   "source": [
    "# Chap#21 for loops"
   ]
  },
  {
   "cell_type": "code",
   "execution_count": 1,
   "metadata": {},
   "outputs": [
    {
     "name": "stdout",
     "output_type": "stream",
     "text": [
      "Web Engineering\n",
      "Data Security\n",
      "Artificial Intelligence\n",
      "Operation Research\n"
     ]
    }
   ],
   "source": [
    "\n",
    "Subject = [\"Web Engineering\", \"Data Security\", \"Artificial Intelligence\", \"Operation Research\"];\n",
    "for x in Subject:\n",
    "    print(x)"
   ]
  },
  {
   "cell_type": "code",
   "execution_count": 5,
   "metadata": {},
   "outputs": [
    {
     "name": "stdout",
     "output_type": "stream",
     "text": [
      "Data Security\n"
     ]
    }
   ],
   "source": [
    "Subject = [\"Web Engineering\", \"Data Security\", \"Artificial Intelligence\", \"Operation Research\"];\n",
    "for x in Subject:\n",
    "    if x == \"Data Security\":\n",
    "        print(x)"
   ]
  },
  {
   "cell_type": "code",
   "execution_count": null,
   "metadata": {},
   "outputs": [],
   "source": []
  }
 ],
 "metadata": {
  "kernelspec": {
   "display_name": "Python 3",
   "language": "python",
   "name": "python3"
  },
  "language_info": {
   "codemirror_mode": {
    "name": "ipython",
    "version": 3
   },
   "file_extension": ".py",
   "mimetype": "text/x-python",
   "name": "python",
   "nbconvert_exporter": "python",
   "pygments_lexer": "ipython3",
   "version": "3.6.5"
  }
 },
 "nbformat": 4,
 "nbformat_minor": 2
}
