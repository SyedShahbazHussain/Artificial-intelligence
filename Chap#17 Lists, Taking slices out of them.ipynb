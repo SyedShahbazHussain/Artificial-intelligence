{
 "cells": [
  {
   "cell_type": "markdown",
   "metadata": {},
   "source": [
    "# Chap#17 Lists: Taking slices out of them"
   ]
  },
  {
   "cell_type": "code",
   "execution_count": 5,
   "metadata": {},
   "outputs": [
    {
     "name": "stdout",
     "output_type": "stream",
     "text": [
      "Selected cites['Karachi', 'Lahore', 'Multan', 'Hydrabad']\n"
     ]
    }
   ],
   "source": [
    "cities = [\"Islamabad\", \"Karachi\", \"Lahore\", \"Multan\", \"Hydrabad\", \"Peshawar\"]\n",
    "selected_cities = cities[1:5]\n",
    "print(\"Selected cites\" + str(selected_cities))"
   ]
  },
  {
   "cell_type": "code",
   "execution_count": 6,
   "metadata": {},
   "outputs": [
    {
     "name": "stdout",
     "output_type": "stream",
     "text": [
      "Selected cites['Lahore', 'Multan', 'Hydrabad', 'Peshawar']\n"
     ]
    }
   ],
   "source": [
    "cities = [\"Islamabad\", \"Karachi\", \"Lahore\", \"Multan\", \"Hydrabad\", \"Peshawar\"]\n",
    "selected_cities = cities[2:]\n",
    "print(\"Selected cites\" + str(selected_cities))"
   ]
  },
  {
   "cell_type": "code",
   "execution_count": null,
   "metadata": {},
   "outputs": [],
   "source": []
  }
 ],
 "metadata": {
  "kernelspec": {
   "display_name": "Python 3",
   "language": "python",
   "name": "python3"
  },
  "language_info": {
   "codemirror_mode": {
    "name": "ipython",
    "version": 3
   },
   "file_extension": ".py",
   "mimetype": "text/x-python",
   "name": "python",
   "nbconvert_exporter": "python",
   "pygments_lexer": "ipython3",
   "version": "3.6.5"
  }
 },
 "nbformat": 4,
 "nbformat_minor": 2
}
