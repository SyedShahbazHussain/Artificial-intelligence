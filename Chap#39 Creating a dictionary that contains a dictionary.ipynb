{
 "cells": [
  {
   "cell_type": "markdown",
   "metadata": {},
   "source": [
    "# Chap#39 Creating a dictionary that contains a dictionary"
   ]
  },
  {
   "cell_type": "code",
   "execution_count": 26,
   "metadata": {},
   "outputs": [
    {
     "name": "stdout",
     "output_type": "stream",
     "text": [
      "[{'customer id': 0, 'first name': 'Shahbaz', 'last name': 'Hussain', 'address': 'Malir.'}, {'customer id': 1, 'first name': 'Umair', 'last name': 'Bajwa', 'address': 'Johar'}, {'customer id': 2, 'first name': 'Asad', 'last name': 'Ikhlas', 'address': 'F.B area'}]\n"
     ]
    }
   ],
   "source": [
    "customers = [\n",
    "    {\n",
    "         \"customer id\": 0,\n",
    "         \"first name\":\"Shahbaz\",\n",
    "         \"last name\": \"Hussain\",\n",
    "         \"address\": \"Malir.\", \n",
    "    },\n",
    "    {\n",
    "        \"customer id\": 1,\n",
    "        \"first name\":\"Umair\",\n",
    "        \"last name\": \"Bajwa\",\n",
    "        \"address\": \"Johar\", \n",
    "    },\n",
    "    {\n",
    "        \"customer id\": 2, \n",
    "        \"first name\":\"Asad\",\n",
    "        \"last name\": \"Ikhlas\",\n",
    "        \"address\": \"F.B area\", \n",
    "    },]\n",
    "\n",
    "print(str(customers))\n",
    "\n",
    "      "
   ]
  },
  {
   "cell_type": "code",
   "execution_count": null,
   "metadata": {},
   "outputs": [],
   "source": []
  }
 ],
 "metadata": {
  "kernelspec": {
   "display_name": "Python 3",
   "language": "python",
   "name": "python3"
  },
  "language_info": {
   "codemirror_mode": {
    "name": "ipython",
    "version": 3
   },
   "file_extension": ".py",
   "mimetype": "text/x-python",
   "name": "python",
   "nbconvert_exporter": "python",
   "pygments_lexer": "ipython3",
   "version": "3.6.5"
  }
 },
 "nbformat": 4,
 "nbformat_minor": 2
}
