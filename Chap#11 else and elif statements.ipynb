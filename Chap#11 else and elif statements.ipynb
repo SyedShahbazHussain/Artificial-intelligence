{
 "cells": [
  {
   "cell_type": "code",
   "execution_count": 4,
   "metadata": {},
   "outputs": [
    {
     "name": "stdout",
     "output_type": "stream",
     "text": [
      "Not go to job.\n"
     ]
    }
   ],
   "source": [
    "day = \"Sunday\"\n",
    "if day == \"Sunday\":\n",
    "    print(\"Not go to job.\")\n",
    "if day == \"monday\":\n",
    "    print(\"Go to job.\") "
   ]
  },
  {
   "cell_type": "code",
   "execution_count": 6,
   "metadata": {},
   "outputs": [
    {
     "name": "stdout",
     "output_type": "stream",
     "text": [
      "Go to job.\n"
     ]
    }
   ],
   "source": [
    "day = \"Monday\"\n",
    "if day == \"Sunday\":\n",
    "    print(\"Not go to job.\")\n",
    "else:\n",
    "    print(\"Go to job.\") "
   ]
  },
  {
   "cell_type": "code",
   "execution_count": 9,
   "metadata": {},
   "outputs": [],
   "source": [
    "donut_condition = \"fresh\"\n",
    "if donut_condition == \"fresh\": \n",
    "    buy_score = 10 \n",
    "elif donut_price == \"low\":\n",
    "    buy_score = 5\n",
    "else:\n",
    "    buy_score = 0 "
   ]
  },
  {
   "cell_type": "code",
   "execution_count": null,
   "metadata": {},
   "outputs": [],
   "source": []
  }
 ],
 "metadata": {
  "kernelspec": {
   "display_name": "Python 3",
   "language": "python",
   "name": "python3"
  },
  "language_info": {
   "codemirror_mode": {
    "name": "ipython",
    "version": 3
   },
   "file_extension": ".py",
   "mimetype": "text/x-python",
   "name": "python",
   "nbconvert_exporter": "python",
   "pygments_lexer": "ipython3",
   "version": "3.6.5"
  }
 },
 "nbformat": 4,
 "nbformat_minor": 2
}
