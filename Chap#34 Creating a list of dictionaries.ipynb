{
 "cells": [
  {
   "cell_type": "markdown",
   "metadata": {},
   "source": [
    "# Chap#34 Creating a list of dictionaries"
   ]
  },
  {
   "cell_type": "code",
   "execution_count": 2,
   "metadata": {},
   "outputs": [
    {
     "data": {
      "text/plain": [
       "[{'FirstName': 'Syed Shahbaz',\n",
       "  'LastName': 'Hussain',\n",
       "  'Depart': 'FEST',\n",
       "  'ID': '1162-2015'},\n",
       " {'FirstName': 'Asad', 'LastName': 'Ikhlas', 'Depart': 'FAD', 'ID': '2030'}]"
      ]
     },
     "execution_count": 2,
     "metadata": {},
     "output_type": "execute_result"
    }
   ],
   "source": [
    "Students = [ \n",
    "    {\n",
    "        'FirstName': 'Syed Shahbaz',\n",
    "        'LastName': 'Hussain',\n",
    "        'Depart': 'FEST',\n",
    "        'ID': '1162-2015'\n",
    "    },\n",
    "    \n",
    "{\n",
    "    'FirstName': 'Asad',\n",
    "    'LastName': 'Ikhlas',\n",
    "    'Depart': 'FAD',\n",
    "    'ID': '2030'\n",
    "},\n",
    "]\n",
    "Students"
   ]
  },
  {
   "cell_type": "code",
   "execution_count": null,
   "metadata": {},
   "outputs": [],
   "source": []
  }
 ],
 "metadata": {
  "kernelspec": {
   "display_name": "Python 3",
   "language": "python",
   "name": "python3"
  },
  "language_info": {
   "codemirror_mode": {
    "name": "ipython",
    "version": 3
   },
   "file_extension": ".py",
   "mimetype": "text/x-python",
   "name": "python",
   "nbconvert_exporter": "python",
   "pygments_lexer": "ipython3",
   "version": "3.6.5"
  }
 },
 "nbformat": 4,
 "nbformat_minor": 2
}
