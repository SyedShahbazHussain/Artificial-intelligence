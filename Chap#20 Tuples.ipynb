{
 "cells": [
  {
   "cell_type": "markdown",
   "metadata": {},
   "source": [
    "# Chap#19 Tuples"
   ]
  },
  {
   "cell_type": "code",
   "execution_count": 3,
   "metadata": {},
   "outputs": [
    {
     "name": "stdout",
     "output_type": "stream",
     "text": [
      "tup1[0]:  Data Security\n",
      "tup2[1:5]:  ('Data Security', 'Artificial Intelligence')\n"
     ]
    }
   ],
   "source": [
    "tup1 = ('Web Engineering', 'Data Security', 'Artificial Intelligence', 'Operation Research');\n",
    "tup2 = ('Web Engineering', 'Data Security', 'Artificial Intelligence', 'Operation Research' );\n",
    "print(\"tup1[0]: \", tup1[1])\n",
    "print(\"tup2[1:5]: \", tup2[1:3])"
   ]
  },
  {
   "cell_type": "code",
   "execution_count": null,
   "metadata": {},
   "outputs": [],
   "source": []
  }
 ],
 "metadata": {
  "kernelspec": {
   "display_name": "Python 3",
   "language": "python",
   "name": "python3"
  },
  "language_info": {
   "codemirror_mode": {
    "name": "ipython",
    "version": 3
   },
   "file_extension": ".py",
   "mimetype": "text/x-python",
   "name": "python",
   "nbconvert_exporter": "python",
   "pygments_lexer": "ipython3",
   "version": "3.6.5"
  }
 },
 "nbformat": 4,
 "nbformat_minor": 2
}
